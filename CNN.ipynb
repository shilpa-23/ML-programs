{
  "nbformat": 4,
  "nbformat_minor": 0,
  "metadata": {
    "colab": {
      "name": "CNN.ipynb",
      "provenance": [],
      "authorship_tag": "ABX9TyMJ21GUYrVqP3YRz0qSxVEC",
      "include_colab_link": true
    },
    "kernelspec": {
      "name": "python3",
      "display_name": "Python 3"
    },
    "language_info": {
      "name": "python"
    }
  },
  "cells": [
    {
      "cell_type": "markdown",
      "metadata": {
        "id": "view-in-github",
        "colab_type": "text"
      },
      "source": [
        "<a href=\"https://colab.research.google.com/github/shilpa-23/ML-programs/blob/main/CNN.ipynb\" target=\"_parent\"><img src=\"https://colab.research.google.com/assets/colab-badge.svg\" alt=\"Open In Colab\"/></a>"
      ]
    },
    {
      "cell_type": "code",
      "execution_count": null,
      "metadata": {
        "id": "7j6F9b6YnOdr"
      },
      "outputs": [],
      "source": [
        "#load packages and modules\n",
        "import keras\n",
        "from keras.datasets import mnist\n",
        "from keras.models import Sequential\n",
        "from keras.layers import Dense\n",
        "from tensorflow.keras.optimizers import SGD\n",
        "from matplotlib import pyplot as plt\n",
        "\n",
        "#load data\n",
        "(X_train,Y_train),(X_valid,Y_valid) = mnist.load_data()\n",
        "\n",
        "#preprocessing the data\n",
        "X_train =X_train .reshape(60000,784).astype('float32')\n",
        "X_valid =X_valid .reshape(10000,784).astype('float32')\n",
        "\n",
        "#normalization\n",
        "X_train /=255\n",
        "X_valid /=255\n",
        "\n",
        "X_valid[0]\n",
        "\n",
        "#convert the labels to one hot representation.\n",
        "from keras import utils as np_utils\n",
        "n_classes=10\n",
        "Y_train=keras.utils.np_utils.to_categorical(Y_train,n_classes)\n",
        "Y_valid=keras.utils.np_utils.to_categorical(Y_valid,n_classes)\n",
        "\n",
        "Y_valid[0]\n",
        "\n",
        "#Defining the model\n",
        "model=Sequential()\n",
        "\n",
        "#Adding dense layer\n",
        "model.add(Dense(64,activation='sigmoid',input_shape=(784,)))\n",
        "\n",
        "#Adding the final layer\n",
        "model.add(Dense(10,activation='softmax'))\n",
        "\n",
        "model.summary()\n",
        "\n",
        "#compile the network\n",
        "model.compile(loss='mean_squared_error',optimizer=SGD(learning_rate=0.01),metrics=['accuracy'])\n",
        "\n",
        "#train\n",
        "history=model.fit(X_train,Y_train,batch_size=128,epochs=150,verbose=1)"
      ]
    }
  ]
}